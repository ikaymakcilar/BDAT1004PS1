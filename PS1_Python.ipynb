{
 "cells": [
  {
   "cell_type": "code",
   "execution_count": 7,
   "id": "930dfede",
   "metadata": {},
   "outputs": [
    {
     "name": "stdout",
     "output_type": "stream",
     "text": [
      "Enter a word: pencil\n",
      "encilpay\n"
     ]
    }
   ],
   "source": [
    "# Question 6 : Python\n",
    "def pig(word):\n",
    "    vowels = \"aeiou\";\n",
    "    \n",
    "    word = word.lower();\n",
    "    \n",
    "    if word[0] in vowels:\n",
    "        pigLatin = word + \"way\";\n",
    "    else:\n",
    "        pigLatin = word[1:] + word[0] + \"ay\"\n",
    "    return pigLatin\n",
    "\n",
    "input_any_word = input(\"Enter a word: \");\n",
    "pigLatin_word = pig(input_any_word);\n",
    "print(pigLatin_word);"
   ]
  },
  {
   "cell_type": "code",
   "execution_count": 89,
   "id": "74f050e7",
   "metadata": {},
   "outputs": [
    {
     "name": "stdout",
     "output_type": "stream",
     "text": [
      "There are 15 patients of blood type A\n",
      "There is 1 patient of blood type B.\n",
      "There are 13 patients of blood type AB\n",
      "There are 15 patients of blood type O\n",
      "There aren't any patients of blood type OO\n"
     ]
    }
   ],
   "source": [
    "# Question 7 : Python\n",
    "def bldcount(fileName):\n",
    "    blood_types = {'A': 0, 'B': 0, 'AB': 0, 'O': 0, 'OO': 0}\n",
    "    \n",
    "    infile = open(fileName);\n",
    "        \n",
    "    content = infile.read();\n",
    "    content = content.split();\n",
    "    for current_blood_type in blood_types.keys():\n",
    "        count = content.count(current_blood_type);\n",
    "        blood_types[current_blood_type] = count;\n",
    "        \n",
    "    for current_blood_type, count in blood_types.items():\n",
    "        if count == 1:\n",
    "            print(f\"There is {count} patient of blood type {current_blood_type}.\");\n",
    "        elif count > 1:\n",
    "            print(f\"There are {count} patients of blood type {current_blood_type}\");\n",
    "        else:\n",
    "            print(f\"There aren't any patients of blood type {current_blood_type}\");\n",
    "\n",
    "bldcount('bloodtype1.txt')\n",
    "# A  --> 15\n",
    "# B  --> 1\n",
    "# AB --> 13\n",
    "# O  --> 15\n",
    "# OO --> 0"
   ]
  },
  {
   "cell_type": "code",
   "execution_count": 83,
   "id": "bebac952",
   "metadata": {},
   "outputs": [
    {
     "name": "stdout",
     "output_type": "stream",
     "text": [
      "122.96544\n",
      "1.241401\n"
     ]
    }
   ],
   "source": [
    "# Question 8 : Python\n",
    "# Write a function curconv() that takes as input:\n",
    "# 1. a currency represented using a string (e.g., 'JPY' for the Japanese Yen or\n",
    "# 'EUR' for the Euro)\n",
    "# 2. an amount\n",
    "# and then converts and returns the amount in US dollars.\n",
    "def curconv(currency, amount):\n",
    "    currencies = {}\n",
    "\n",
    "    with open('currencies.txt', 'r') as infile:\n",
    "        for line in infile:\n",
    "            parts = line.strip().split('\\t', 2)\n",
    "\n",
    "            if len(parts) == 3:\n",
    "                key, value, description = parts\n",
    "                currencies[key] = float(value)\n",
    "                \n",
    "    if currency in currencies:\n",
    "        return currencies[currency] * amount\n",
    "    else:\n",
    "        return f\"No currency is found.\"\n",
    "\n",
    "result = curconv('EUR', 100)\n",
    "print(result)\n",
    "\n",
    "result = curconv('JPY', 100)\n",
    "print(result)"
   ]
  },
  {
   "cell_type": "code",
   "execution_count": 86,
   "id": "21035bb3",
   "metadata": {},
   "outputs": [],
   "source": [
    "# Question 9 : Python\n",
    "# Each of the following will cause an exception (an error). Identify what type of\n",
    "# exception each will cause.\n",
    "\n",
    "# 6 + ‘a’\n",
    "    # This will cause a 'TypeError'\n",
    "\n",
    "# Referring to the 12th item of a list that has only 10 items\n",
    "    # This will cause a 'IndexError'\n",
    "\n",
    "# Using a value that is out of range for a function’s\n",
    "# input, such as calling math.sqrt(-1.0)\n",
    "    # This will cause a 'ValueError'\n",
    "\n",
    "# Using an undeclared variable, such as print(x)\n",
    "# when x has not been defined\n",
    "    # This will cause a 'NameError' \n",
    "\n",
    "# Trying to open a file that does not exist, such as\n",
    "# mistyping the file name or looking in the wrong\n",
    "# directory. \n",
    "    # This will cause a 'FileNotFoundError'\n"
   ]
  },
  {
   "cell_type": "code",
   "execution_count": 94,
   "id": "ead6800c",
   "metadata": {},
   "outputs": [
    {
     "name": "stdout",
     "output_type": "stream",
     "text": [
      "[1, 1, 1, 3, 5, 1, 1, 2, 1, 0, 1, 0, 1, 2, 4, 0, 1, 2, 0, 2, 1, 0, 1, 1, 0, 0]\n",
      "[1, 0, 0, 0, 1, 0, 0, 0, 0, 0, 0, 1, 0, 0, 0, 2, 0, 0, 0, 0, 0, 0, 0, 0, 0, 0]\n"
     ]
    }
   ],
   "source": [
    "# Question 10 : Python\n",
    "def frequencies(anyString):\n",
    "    letters = 'abcdefghijklmnopqrstuvwxyz';\n",
    "    \n",
    "    char_count = {};\n",
    "    \n",
    "    # initialize the dictionary before counting the letters\n",
    "    for letter in letters:\n",
    "        char_count[letter] = 0;\n",
    "    \n",
    "    for char in anyString:\n",
    "        if char in letters:\n",
    "            char_count[char] += 1;\n",
    "    \n",
    "    freq_list = list(char_count.values());\n",
    "    return freq_list;\n",
    "\n",
    "result = frequencies('The quick red fox got bored and went home.');\n",
    "print(result);\n",
    "\n",
    "result = frequencies('apple');\n",
    "print(result);"
   ]
  },
  {
   "cell_type": "code",
   "execution_count": null,
   "id": "e1f94142",
   "metadata": {},
   "outputs": [],
   "source": []
  }
 ],
 "metadata": {
  "kernelspec": {
   "display_name": "Python 3 (ipykernel)",
   "language": "python",
   "name": "python3"
  },
  "language_info": {
   "codemirror_mode": {
    "name": "ipython",
    "version": 3
   },
   "file_extension": ".py",
   "mimetype": "text/x-python",
   "name": "python",
   "nbconvert_exporter": "python",
   "pygments_lexer": "ipython3",
   "version": "3.11.4"
  }
 },
 "nbformat": 4,
 "nbformat_minor": 5
}
