{
 "cells": [
  {
   "cell_type": "code",
   "execution_count": 1,
   "id": "a6a95929",
   "metadata": {},
   "outputs": [
    {
     "data": {
      "text/html": [
       "\r\n",
       "<div>\r\n",
       "    <div id='dotnet-interactive-this-cell-40796.Microsoft.DotNet.Interactive.Http.HttpPort' style='display: none'>\r\n",
       "        The below script needs to be able to find the current output cell; this is an easy method to get it.\r\n",
       "    </div>\r\n",
       "    <script type='text/javascript'>\r\n",
       "async function probeAddresses(probingAddresses) {\r\n",
       "    function timeout(ms, promise) {\r\n",
       "        return new Promise(function (resolve, reject) {\r\n",
       "            setTimeout(function () {\r\n",
       "                reject(new Error('timeout'))\r\n",
       "            }, ms)\r\n",
       "            promise.then(resolve, reject)\r\n",
       "        })\r\n",
       "    }\r\n",
       "\r\n",
       "    if (Array.isArray(probingAddresses)) {\r\n",
       "        for (let i = 0; i < probingAddresses.length; i++) {\r\n",
       "\r\n",
       "            let rootUrl = probingAddresses[i];\r\n",
       "\r\n",
       "            if (!rootUrl.endsWith('/')) {\r\n",
       "                rootUrl = `${rootUrl}/`;\r\n",
       "            }\r\n",
       "\r\n",
       "            try {\r\n",
       "                let response = await timeout(1000, fetch(`${rootUrl}discovery`, {\r\n",
       "                    method: 'POST',\r\n",
       "                    cache: 'no-cache',\r\n",
       "                    mode: 'cors',\r\n",
       "                    timeout: 1000,\r\n",
       "                    headers: {\r\n",
       "                        'Content-Type': 'text/plain'\r\n",
       "                    },\r\n",
       "                    body: probingAddresses[i]\r\n",
       "                }));\r\n",
       "\r\n",
       "                if (response.status == 200) {\r\n",
       "                    return rootUrl;\r\n",
       "                }\r\n",
       "            }\r\n",
       "            catch (e) { }\r\n",
       "        }\r\n",
       "    }\r\n",
       "}\r\n",
       "\r\n",
       "function loadDotnetInteractiveApi() {\r\n",
       "    probeAddresses([\"http://192.168.2.110:1025/\", \"http://127.0.0.1:1025/\"])\r\n",
       "        .then((root) => {\r\n",
       "        // use probing to find host url and api resources\r\n",
       "        // load interactive helpers and language services\r\n",
       "        let dotnetInteractiveRequire = require.config({\r\n",
       "        context: '40796.Microsoft.DotNet.Interactive.Http.HttpPort',\r\n",
       "                paths:\r\n",
       "            {\r\n",
       "                'dotnet-interactive': `${root}resources`\r\n",
       "                }\r\n",
       "        }) || require;\r\n",
       "\r\n",
       "            window.dotnetInteractiveRequire = dotnetInteractiveRequire;\r\n",
       "\r\n",
       "            window.configureRequireFromExtension = function(extensionName, extensionCacheBuster) {\r\n",
       "                let paths = {};\r\n",
       "                paths[extensionName] = `${root}extensions/${extensionName}/resources/`;\r\n",
       "                \r\n",
       "                let internalRequire = require.config({\r\n",
       "                    context: extensionCacheBuster,\r\n",
       "                    paths: paths,\r\n",
       "                    urlArgs: `cacheBuster=${extensionCacheBuster}`\r\n",
       "                    }) || require;\r\n",
       "\r\n",
       "                return internalRequire\r\n",
       "            };\r\n",
       "        \r\n",
       "            dotnetInteractiveRequire([\r\n",
       "                    'dotnet-interactive/dotnet-interactive'\r\n",
       "                ],\r\n",
       "                function (dotnet) {\r\n",
       "                    dotnet.init(window);\r\n",
       "                },\r\n",
       "                function (error) {\r\n",
       "                    console.log(error);\r\n",
       "                }\r\n",
       "            );\r\n",
       "        })\r\n",
       "        .catch(error => {console.log(error);});\r\n",
       "    }\r\n",
       "\r\n",
       "// ensure `require` is available globally\r\n",
       "if ((typeof(require) !==  typeof(Function)) || (typeof(require.config) !== typeof(Function))) {\r\n",
       "    let require_script = document.createElement('script');\r\n",
       "    require_script.setAttribute('src', 'https://cdnjs.cloudflare.com/ajax/libs/require.js/2.3.6/require.min.js');\r\n",
       "    require_script.setAttribute('type', 'text/javascript');\r\n",
       "    \r\n",
       "    \r\n",
       "    require_script.onload = function() {\r\n",
       "        loadDotnetInteractiveApi();\r\n",
       "    };\r\n",
       "\r\n",
       "    document.getElementsByTagName('head')[0].appendChild(require_script);\r\n",
       "}\r\n",
       "else {\r\n",
       "    loadDotnetInteractiveApi();\r\n",
       "}\r\n",
       "\r\n",
       "    </script>\r\n",
       "</div>"
      ]
     },
     "metadata": {},
     "output_type": "display_data"
    }
   ],
   "source": [
    "// Question 1 : C#\n",
    "// What data type is each of the following?\n",
    "// 5               ----> Integer\n",
    "// 5.0             ----> Floating point number\n",
    "// 5 > 1           ----> Boolean\n",
    "// '5'             ----> Character\n",
    "// 5 * 2           ----> Integer\n",
    "// '5' * 2         ----> Integer\n",
    "// '5' + '2'       ----> Integer\n",
    "// 5 / 2           ----> Floating point number\n",
    "// 5 % 2           ----> Integer\n",
    "// {5, 2, 1}       ----> Array\n",
    "// 5 == 3          ----> Boolean\n",
    "// Pi (the number) ----> Floating point number"
   ]
  },
  {
   "cell_type": "code",
   "execution_count": 2,
   "id": "fcc08328",
   "metadata": {},
   "outputs": [
    {
     "name": "stdout",
     "output_type": "stream",
     "text": [
      "34\n"
     ]
    }
   ],
   "source": [
    "// Question 2 : C#\n",
    "// Write (and evaluate) C# expressions that answer these questions:\n",
    "// a. How many letters are there in 'Supercalifragilisticexpialidocious'?\n",
    "    string str = \"Supercalifragilisticexpialidocious\";\n",
    "    Console.WriteLine(str.Length);"
   ]
  },
  {
   "cell_type": "code",
   "execution_count": 3,
   "id": "7596833b",
   "metadata": {},
   "outputs": [
    {
     "name": "stdout",
     "output_type": "stream",
     "text": [
      "mainString contains subString\n"
     ]
    }
   ],
   "source": [
    "// b. Does 'Supercalifragilisticexpialidocious' contain 'ice' as a substring? \n",
    "    string mainString = \"Supercalifragilisticexpialidocious\";\n",
    "    string subString = \"ice\";\n",
    "\n",
    "    if(mainString.Contains(subString))\n",
    "        Console.WriteLine(\"mainString contains subString\");\n",
    "    else\n",
    "        Console.WriteLine(\"mainString does not contain subString\");"
   ]
  },
  {
   "cell_type": "code",
   "execution_count": 4,
   "id": "30f48a4d",
   "metadata": {},
   "outputs": [
    {
     "name": "stdout",
     "output_type": "stream",
     "text": [
      "Supercalifragilisticexpialidocious is the longest with 34 characters.\n",
      "Bababadalgharaghtakamminarronnkonn is the longest with 34 characters.\n"
     ]
    }
   ],
   "source": [
    "// c. Which of the following words is the longest: \n",
    "// Supercalifragilisticexpialidocious, Honorificabilitudinitatibus, or\n",
    "// Bababadalgharaghtakamminarronnkonn? \n",
    "    string str1 = \"Supercalifragilisticexpialidocious\";\n",
    "    string str2 = \"Honorificabilitudinitatibus\";\n",
    "    string str3 = \"Bababadalgharaghtakamminarronnkonn\";\n",
    "\n",
    "    int length1 = str1.Length;\n",
    "    int length2 = str2.Length;\n",
    "    int length3 = str3.Length;\n",
    "\n",
    "    if (length1 == length2 && length2 == length3)\n",
    "    {\n",
    "        Console.WriteLine($\"All strings have the same character count with {length1} characters.\");\n",
    "    }\n",
    "    else\n",
    "    {\n",
    "        if (length1 >= length2 && length1 >= length3)\n",
    "        {\n",
    "            Console.WriteLine($\"{str1} is the longest with {length1} characters.\");\n",
    "        }\n",
    "        if (length2 >= length1 && length2 >= length3)\n",
    "        {\n",
    "            Console.WriteLine($\"{str2} is the longest with {length2} characters.\");\n",
    "        }\n",
    "        if (length3 >= length1 && length3 >= length2)\n",
    "        {\n",
    "            Console.WriteLine($\"{str3} is the longest with {length3} characters.\");\n",
    "        }\n",
    "    }"
   ]
  },
  {
   "cell_type": "code",
   "execution_count": 5,
   "id": "e81ad6f3",
   "metadata": {},
   "outputs": [
    {
     "name": "stdout",
     "output_type": "stream",
     "text": [
      "The first composer in the dictionary: Bartok\n",
      "The last composer in the dictionary: Buxtehude\n"
     ]
    }
   ],
   "source": [
    "// d. Which composer comes first in the dictionary: 'Berlioz', 'Borodin', 'Brian',\n",
    "// 'Bartok', 'Bellini', 'Buxtehude', 'Bernstein'. Which one comes last?\n",
    "     string[] composers = { \"Berlioz\", \"Borodin\", \"Brian\", \"Bartok\", \"Bellini\", \"Buxtehude\", \"Bernstein\" };\n",
    "\n",
    "     Array.Sort(composers);\n",
    "\n",
    "     string firstComposer = composers[0];\n",
    "\n",
    "     string lastComposer = composers[composers.Length - 1];\n",
    "\n",
    "     Console.WriteLine($\"The first composer in the dictionary: {firstComposer}\");\n",
    "     Console.WriteLine($\"The last composer in the dictionary: {lastComposer}\");"
   ]
  },
  {
   "cell_type": "code",
   "execution_count": 6,
   "id": "8b0e4f5a",
   "metadata": {},
   "outputs": [
    {
     "name": "stdout",
     "output_type": "stream",
     "text": [
      "1.7320508\n"
     ]
    }
   ],
   "source": [
    "// Question 3 : C#\n",
    "// Implement function triangleArea(a,b,c) that takes as input the lengths of the 3\n",
    "// sides of a triangle and returns the area of the triangle. By Heron's formula, the area\n",
    "// of a triangle with side lengths a, b, and c is\n",
    "// s(s - a)(s -b)(s -c)\n",
    "// , where\n",
    "// s = (a+b+c)/2. \n",
    "    public static float triangleArea(int a, int b, int c)\n",
    "    {\n",
    "        float area = 0.0f;\n",
    "        float s = (a + b + c) / 2;\n",
    "        \n",
    "        area = (float)Math.Sqrt(s * (s - a) * (s - b) * (s - c));\n",
    "        \n",
    "        return area;\n",
    "    }\n",
    "    \n",
    "    float area = triangleArea(2,2,2);\n",
    "    Console.WriteLine(area);"
   ]
  },
  {
   "cell_type": "code",
   "execution_count": 27,
   "id": "faafeb63",
   "metadata": {},
   "outputs": [
    {
     "name": "stdout",
     "output_type": "stream",
     "text": [
      "Input the number of elements to be stored in the array : \n"
     ]
    },
    {
     "ename": "Unhandled exception",
     "evalue": "System.ArgumentNullException: Value cannot be null. (Parameter 's')\n   at System.Int32.Parse(String s)\n   at Submission#30.<<Initialize>>d__0.MoveNext()\n--- End of stack trace from previous location where exception was thrown ---\n   at Microsoft.CodeAnalysis.Scripting.ScriptExecutionState.RunSubmissionsAsync[TResult](ImmutableArray`1 precedingExecutors, Func`2 currentExecutor, StrongBox`1 exceptionHolderOpt, Func`2 catchExceptionOpt, CancellationToken cancellationToken)",
     "output_type": "error",
     "traceback": [
      "System.ArgumentNullException: Value cannot be null. (Parameter 's')\n   at System.Int32.Parse(String s)\n   at Submission#30.<<Initialize>>d__0.MoveNext()\n--- End of stack trace from previous location where exception was thrown ---\n   at Microsoft.CodeAnalysis.Scripting.ScriptExecutionState.RunSubmissionsAsync[TResult](ImmutableArray`1 precedingExecutors, Func`2 currentExecutor, StrongBox`1 exceptionHolderOpt, Func`2 catchExceptionOpt, CancellationToken cancellationToken)",
      "   at System.Int32.Parse(String s)",
      "   at Submission#30.<<Initialize>>d__0.MoveNext()",
      "--- End of stack trace from previous location where exception was thrown ---",
      "   at Microsoft.CodeAnalysis.Scripting.ScriptExecutionState.RunSubmissionsAsync[TResult](ImmutableArray`1 precedingExecutors, Func`2 currentExecutor, StrongBox`1 exceptionHolderOpt, Func`2 catchExceptionOpt, CancellationToken cancellationToken)"
     ]
    }
   ],
   "source": [
    "// Question 4 : C#\n",
    "// Write a program in C# Sharp to separate odd and even integers in separate arrays.\n",
    "    Console.WriteLine(\"Input the number of elements to be stored in the array : \");\n",
    "    int size = int.Parse(Console.ReadLine());\n",
    "        \n",
    "    int [] originalArray = new int [size];\n",
    "    int [] evenArray = new int [size];\n",
    "    int [] oddArray = new int [size];\n",
    "        \n",
    "    int even = 0;\n",
    "    int odd = 0;\n",
    "        \n",
    "    Console.WriteLine($\"Input {size} elements in the array :\");\n",
    "    for(int i = 0; i < size; i++)\n",
    "    {\n",
    "       Console.Write($\"element - {i}: \");\n",
    "        originalArray[i] = int.Parse(Console.ReadLine());\n",
    "            \n",
    "        if(originalArray[i] % 2 == 0)\n",
    "        {\n",
    "            evenArray[even] = originalArray[i];\n",
    "            even++;\n",
    "        }\n",
    "        else\n",
    "        {\n",
    "            oddArray[odd] = originalArray[i];\n",
    "            odd++;\n",
    "        }\n",
    "    }\n",
    "        \n",
    "    Array.Resize(ref evenArray, even);\n",
    "    Array.Resize(ref oddArray, odd);\n",
    "        \n",
    "    Console.WriteLine(\"The Even elements are: \");\n",
    "    foreach (int evenNumber in evenArray)\n",
    "    {\n",
    "        Console.Write($\"{evenNumber} \");\n",
    "    }\n",
    "        \n",
    "    Console.WriteLine(\"\\nThe Odd elements are :\");\n",
    "    foreach (int oddNumber in oddArray)\n",
    "    {\n",
    "        Console.Write($\"{oddNumber} \");\n",
    "    }\n"
   ]
  },
  {
   "attachments": {},
   "cell_type": "markdown",
   "id": "fd495db1",
   "metadata": {},
   "source": [
    "// When I try to run this block, there is an error. \n",
    "// But when I tried to run my code in an online compiler I get this output:\n",
    "<img src=\"Question4_Output.png\">"
   ]
  },
  {
   "cell_type": "code",
   "execution_count": 11,
   "id": "c20386e9",
   "metadata": {},
   "outputs": [
    {
     "name": "stdout",
     "output_type": "stream",
     "text": [
      "False"
     ]
    }
   ],
   "source": [
    "// Question 5 : C#\n",
    "// a. Write a function inside(x,y,x1,y1,x2,y2) that returns True or False\n",
    "// depending on whether the point (x,y) lies in the rectangle with lower left\n",
    "// corner (x1,y1) and upper right corner (x2,y2).\n",
    "    public static bool inside(int x, int y, int x1, int y1, int x2, int y2)\n",
    "    {\n",
    "        if(x >= x1 && x <= x2 && y >= y1 && y <= y2)\n",
    "            return true;\n",
    "        else\n",
    "            return false;\n",
    "    }\n",
    "\n",
    "    bool isInside = inside(-1,-1,0,0,2,3);\n",
    "    Console.Write(isInside);"
   ]
  },
  {
   "cell_type": "code",
   "execution_count": 12,
   "id": "a7f19920",
   "metadata": {},
   "outputs": [
    {
     "name": "stdout",
     "output_type": "stream",
     "text": [
      "The point (1, 1) is not inside both rectangles.\n"
     ]
    }
   ],
   "source": [
    "// b. Use function inside() from part a. to write an expression that tests whether\n",
    "// the point (1,1) lies in both of the following rectangles: one with lower left\n",
    "// corner (0.3, 0.5) and upper right corner (1.1, 0.7) and the other with lower\n",
    "// left corner (0.5, 0.2) and upper right corner (1.1, 2). \n",
    "     public static bool inside(int x, int y, double x1, double y1, double x2, double y2)\n",
    "    {\n",
    "        if (x >= x1 && x <= x2 && y >= y1 && y <= y2)\n",
    "            return true;\n",
    "        else\n",
    "            return false;\n",
    "    }\n",
    "\n",
    "        double x = 1;\n",
    "        double y = 1;\n",
    "\n",
    "        // Rectangle 1\n",
    "        double rect1_x1 = 0.3;\n",
    "        double rect1_y1 = 0.5;\n",
    "        double rect1_x2 = 1.1;\n",
    "        double rect1_y2 = 0.7;\n",
    "\n",
    "        // Rectangle 2\n",
    "        double rect2_x1 = 0.5;\n",
    "        double rect2_y1 = 0.2;\n",
    "        double rect2_x2 = 1.1;\n",
    "        double rect2_y2 = 2;\n",
    "\n",
    "        bool isInRect1 = inside((int)x, (int)y, rect1_x1, rect1_y1, rect1_x2, rect1_y2);\n",
    "        bool isInRect2 = inside((int)x, (int)y, rect2_x1, rect2_y1, rect2_x2, rect2_y2);\n",
    "\n",
    "        // Check if the point is inside both rectangles\n",
    "        if (isInRect1 && isInRect2)\n",
    "        {\n",
    "            Console.WriteLine(\"The point (1, 1) is inside both rectangles.\");\n",
    "        }\n",
    "        else\n",
    "        {\n",
    "            Console.WriteLine(\"The point (1, 1) is not inside both rectangles.\");\n",
    "        }"
   ]
  }
 ],
 "metadata": {
  "kernelspec": {
   "display_name": ".NET (C#)",
   "language": "C#",
   "name": ".net-csharp"
  },
  "language_info": {
   "file_extension": ".cs",
   "mimetype": "text/x-csharp",
   "name": "C#",
   "pygments_lexer": "csharp",
   "version": "8.0"
  }
 },
 "nbformat": 4,
 "nbformat_minor": 5
}
